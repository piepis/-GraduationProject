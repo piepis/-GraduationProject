{
 "cells": [
  {
   "cell_type": "raw",
   "metadata": {},
   "source": [
    "ss = socket()               #创建服务器套接字\n",
    "ss.bind()                   #套接字与地址绑定\n",
    "ss.listen()                 #监听连接\n",
    "inf_loop:                   #服务器无线循环\n",
    "    cs = ss.accept()        #接收客户端连接\n",
    "    comn_loop:              #通讯循环\n",
    "        cs.recv()/cs.send() #对话（接收/发送)\n",
    "    cs.close()              #关闭客户端套接字\n",
    "ss.close()                  #关闭服务器套接字#(可选)\n",
    "\n",
    "    "
   ]
  },
  {
   "cell_type": "code",
   "execution_count": 2,
   "metadata": {},
   "outputs": [
    {
     "ename": "SyntaxError",
     "evalue": "invalid syntax (<ipython-input-2-ba48e2591049>, line 3)",
     "traceback": [
      "\u001b[1;36m  File \u001b[1;32m\"<ipython-input-2-ba48e2591049>\"\u001b[1;36m, line \u001b[1;32m3\u001b[0m\n\u001b[1;33m    comn_loop:               #通讯循环\u001b[0m\n\u001b[1;37m             ^\u001b[0m\n\u001b[1;31mSyntaxError\u001b[0m\u001b[1;31m:\u001b[0m invalid syntax\n"
     ],
     "output_type": "error"
    }
   ],
   "source": [
    "cs = socket()            #创建客户端套接字\n",
    "cs.connect()             #尝试连接服务器\n",
    "comn_loop:               #通讯循环\n",
    "    cs.send()/cs.recv()  #对话（发送/接收）\n",
    "cs.close()               #关闭客户端套接字"
   ]
  },
  {
   "cell_type": "code",
   "execution_count": 14,
   "metadata": {},
   "outputs": [],
   "source": [
    "results = '88'"
   ]
  },
  {
   "cell_type": "code",
   "execution_count": 15,
   "metadata": {
    "collapsed": true
   },
   "outputs": [],
   "source": [
    "confidence = 1.71"
   ]
  },
  {
   "cell_type": "code",
   "execution_count": 16,
   "metadata": {},
   "outputs": [
    {
     "name": "stdout",
     "output_type": "stream",
     "text": [
      "0.855\n"
     ]
    }
   ],
   "source": [
    "confidence=confidence/len(results)\n",
    "print(confidence)"
   ]
  },
  {
   "cell_type": "code",
   "execution_count": 17,
   "metadata": {},
   "outputs": [
    {
     "ename": "SyntaxError",
     "evalue": "invalid syntax (<ipython-input-17-f5572ef31fe4>, line 1)",
     "traceback": [
      "\u001b[1;36m  File \u001b[1;32m\"<ipython-input-17-f5572ef31fe4>\"\u001b[1;36m, line \u001b[1;32m1\u001b[0m\n\u001b[1;33m    [[  1.14059134e-03   2.19728861e-07   2.28466852e-05 ...,   1.36598022e-08\u001b[0m\n\u001b[1;37m                                      ^\u001b[0m\n\u001b[1;31mSyntaxError\u001b[0m\u001b[1;31m:\u001b[0m invalid syntax\n"
     ],
     "output_type": "error"
    }
   ],
   "source": [
    "[[  1.14059134e-03   2.19728861e-07   2.28466852e-05 ...,   1.36598022e-08\n",
    "        1.29224162e-07   2.71780759e-01]\n",
    "     [  2.67380686e-03   2.26508546e-05   1.41910859e-03 ...,   2.28419523e-08\n",
    "        1.73326214e-06   5.79523258e-02]\n",
    "     [  1.05932551e-04   2.14274496e"
   ]
  },
  {
   "cell_type": "code",
   "execution_count": null,
   "metadata": {
    "collapsed": true
   },
   "outputs": [],
   "source": [
    ""
   ]
  }
 ],
 "metadata": {
  "kernelspec": {
   "display_name": "Python 2",
   "language": "python",
   "name": "python2"
  },
  "language_info": {
   "codemirror_mode": {
    "name": "ipython",
    "version": 2.0
   },
   "file_extension": ".py",
   "mimetype": "text/x-python",
   "name": "python",
   "nbconvert_exporter": "python",
   "pygments_lexer": "ipython2",
   "version": "2.7.13"
  }
 },
 "nbformat": 4,
 "nbformat_minor": 0
}